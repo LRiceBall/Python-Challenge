{
 "cells": [
  {
   "cell_type": "code",
   "execution_count": 1,
   "metadata": {},
   "outputs": [],
   "source": [
    "import os\n",
    "import csv\n",
    "\n",
    "\n",
    "# Path to collect data from the Resources folder\n",
    "budget_csv = os.path.join(\"..\", \"Resources\", \"budget_data.csv\")"
   ]
  },
  {
   "cell_type": "code",
   "execution_count": 12,
   "metadata": {},
   "outputs": [],
   "source": [
    "with open(budget_csv) as csvfile:\n",
    "    budget_data = csv.reader(csvfile, delimiter=\",\")\n",
    "\n",
    "    # set header as first row\n",
    "    csv_header = next(csvfile)\n",
    "    \n",
    "    # create empty lists to load columns\n",
    "    profit_loss = []\n",
    "    date = []\n",
    "    total_profit = 0\n",
    "    total_months = 0\n",
    "    \n",
    "    # get number of rows for months\n",
    "    total_months = len(csv_header)\n",
    "    \n",
    "    for i in budget_data:\n",
    "        # append data to lists\n",
    "        profit_loss.append(int(i[1]))\n",
    "        date.append(i[0])\n"
   ]
  },
  {
   "cell_type": "code",
   "execution_count": 13,
   "metadata": {},
   "outputs": [],
   "source": [
    "        \n",
    "        # get sum of profits \n",
    "        total_profit = sum(profit_loss)\n",
    "    "
   ]
  },
  {
   "cell_type": "code",
   "execution_count": 14,
   "metadata": {},
   "outputs": [
    {
     "name": "stdout",
     "output_type": "stream",
     "text": [
      "38382578\n",
      "19\n"
     ]
    }
   ],
   "source": [
    "        print(total_profit)\n",
    "        print(total_months)"
   ]
  },
  {
   "cell_type": "code",
   "execution_count": 39,
   "metadata": {},
   "outputs": [],
   "source": [
    "    # Average profit\n",
    "    avg_profit = round(total_profit / total_months,2)\n",
    "        \n",
    "    # Max and Min profit\n",
    "    max_profit = max(profit_loss)\n",
    "    min_profit = min(profit_loss)\n",
    "    \n",
    "    max_rev = profit_loss.index(max_profit)\n",
    "    min_rev = profit_loss.index(min_profit)\n",
    "    \n",
    "    # link dates with max and mins\n",
    "    max_msg = str(date[max_rev]) + ' ($' + str(max_profit) + ')'\n",
    "    min_msg = str(date[min_rev]) + ' ($' + str(min_profit) + ')'"
   ]
  },
  {
   "cell_type": "code",
   "execution_count": 40,
   "metadata": {},
   "outputs": [
    {
     "name": "stdout",
     "output_type": "stream",
     "text": [
      "Financial Summary\n",
      "Total Months: 19\n",
      "Total Profit: 38382578\n",
      "Average Change: 2020135.68\n",
      "Greatest Increase in Profits: 12-Feb ($1170593)\n",
      "Greatest Decrease in Profits: 13-Sep ($-1196225)\n"
     ]
    }
   ],
   "source": [
    "    # Print summary \n",
    "    print(\"Financial Summary\")\n",
    "    print(\"Total Months: \" + str(total_months))\n",
    "    print(\"Total Profit: \" + str(total_profit))\n",
    "    print(\"Average Change: \" + str(avg_profit))\n",
    "    print(\"Greatest Increase in Profits: \" + str(max_msg))\n",
    "    print(\"Greatest Decrease in Profits: \" + str(min_msg))\n",
    "\n"
   ]
  },
  {
   "cell_type": "code",
   "execution_count": 48,
   "metadata": {},
   "outputs": [
    {
     "ename": "SyntaxError",
     "evalue": "invalid syntax (<ipython-input-48-e8010ef2d2a1>, line 3)",
     "output_type": "error",
     "traceback": [
      "\u001b[1;36m  File \u001b[1;32m\"<ipython-input-48-e8010ef2d2a1>\"\u001b[1;36m, line \u001b[1;32m3\u001b[0m\n\u001b[1;33m    with open(\"bank_output.txt\", \"w\")\u001b[0m\n\u001b[1;37m                                     ^\u001b[0m\n\u001b[1;31mSyntaxError\u001b[0m\u001b[1;31m:\u001b[0m invalid syntax\n"
     ]
    }
   ],
   "source": [
    "    # save output\n",
    "    bank_output = os.path.join(\"bank_output.csv\")\n",
    "    with open(\"bank_output.txt\", \"w\")\n",
    "        text = csv.writer(datafile)\n",
    "        text.write(\"Financial Summary\")\n",
    "        text.write(\"Total Months: \" + str(total_months))\n",
    "        text.write(\"Total Profit: \" + str(total_profit))\n",
    "        text.write(\"Average Change: \" + str(avg_profit))\n",
    "        text.write(\"Greatest Increase in Profits: \" + str(max_msg))\n",
    "        text.write(\"Greatest Decrease in Profits: \" + str(min_msg))\n",
    "        text.close() "
   ]
  },
  {
   "cell_type": "code",
   "execution_count": null,
   "metadata": {},
   "outputs": [],
   "source": []
  }
 ],
 "metadata": {
  "kernelspec": {
   "display_name": "Python 3",
   "language": "python",
   "name": "python3"
  },
  "language_info": {
   "codemirror_mode": {
    "name": "ipython",
    "version": 3
   },
   "file_extension": ".py",
   "mimetype": "text/x-python",
   "name": "python",
   "nbconvert_exporter": "python",
   "pygments_lexer": "ipython3",
   "version": "3.7.6"
  }
 },
 "nbformat": 4,
 "nbformat_minor": 4
}
