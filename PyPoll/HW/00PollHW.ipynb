{
 "cells": [
  {
   "cell_type": "code",
   "execution_count": 7,
   "metadata": {},
   "outputs": [],
   "source": [
    "import os\n",
    "import csv\n",
    "\n",
    "polls_csv = os.path.join(\"..\", \"Resources\", \"election_data.csv\")\n",
    "\n",
    "# Open and read csv\n",
    "with open(polls_csv) as csvfile:\n",
    "    polls_data = csv.reader(csvfile, delimiter=\",\")\n",
    "   \n",
    "    # Read the header row first\n",
    "    csv_header = next(csvfile)\n",
    "    \n",
    "    # create lists to collect tallies\n",
    "    total_votes = 0\n",
    "    v_khan = 0\n",
    "    v_correy = 0\n",
    "    v_li = 0\n",
    "    v_otooley = 0\n",
    "    v_other = 0\n",
    "\n",
    "    for i in polls_data:\n",
    "        \n",
    "        # get total votes\n",
    "        total_votes += 1\n",
    "        \n",
    "        # Tally votes for each\n",
    "        if (i[2] == \"Khan\"):\n",
    "            v_khan += 1\n",
    "        \n",
    "        elif (i[2] == \"Correy\"):\n",
    "            v_correy += 1\n",
    "        \n",
    "        elif (i[2] == \"Li\"):\n",
    "            v_li += 1\n",
    "        \n",
    "        elif (i[2] == \"O\\'Tooley\"):\n",
    "            v_otooley += 1   \n",
    "        else:\n",
    "            v_other += 1"
   ]
  },
  {
   "cell_type": "code",
   "execution_count": 14,
   "metadata": {},
   "outputs": [],
   "source": [
    "    index = [1, 2, 3, 4, 5]\n",
    "    cand = ['Khan', 'Correy', 'Li', 'O\\'Tooley', 'Other']\n",
    "    v_cand = [v_khan, v_correy, v_li, v_otooley, v_other]\n",
    "    \n",
    "    # see who has the most vots\n",
    "    most_votes = max(v_cand)\n",
    "    \n",
    "    # Get the index of max(candidate_votes) and retrieve candidate with most votes\n",
    "    most_votes_index = v_cand.index(most_votes)\n",
    "    winner = cand[most_votes_index]\n",
    "    \n",
    "    #calculate % of vote for each candidate \n",
    "    cand_precent = [round(i/total_votes*100,3) for i in v_cand]"
   ]
  },
  {
   "cell_type": "code",
   "execution_count": 17,
   "metadata": {},
   "outputs": [
    {
     "name": "stdout",
     "output_type": "stream",
     "text": [
      "Election Polls\n",
      "Total Votes: 3521001\n",
      "Winner: Khan\n"
     ]
    }
   ],
   "source": [
    "    print(\"Election Polls\")\n",
    "    print(\"Total Votes: \" + str(total_votes))\n",
    "    print(\"Winner: \" + str(winner))\n"
   ]
  },
  {
   "cell_type": "code",
   "execution_count": 18,
   "metadata": {},
   "outputs": [],
   "source": [
    "    # zip lists together\n",
    "    polls_list = zip(index, cand, v_cand)\n",
    "    \n",
    "    # save output\n",
    "    polls_output = os.path.join(\"polls_output.csv\")\n",
    "    with open(polls_output, \"w\") as datafile:\n",
    "        writer = csv.writer(datafile)\n",
    "        writer.writerow([\"Index\", \"Candidate\", \"Votes\"])\n",
    "        writer.writerow(polls_list)"
   ]
  },
  {
   "cell_type": "code",
   "execution_count": null,
   "metadata": {},
   "outputs": [],
   "source": []
  }
 ],
 "metadata": {
  "kernelspec": {
   "display_name": "Python 3",
   "language": "python",
   "name": "python3"
  },
  "language_info": {
   "codemirror_mode": {
    "name": "ipython",
    "version": 3
   },
   "file_extension": ".py",
   "mimetype": "text/x-python",
   "name": "python",
   "nbconvert_exporter": "python",
   "pygments_lexer": "ipython3",
   "version": "3.7.6"
  }
 },
 "nbformat": 4,
 "nbformat_minor": 4
}
